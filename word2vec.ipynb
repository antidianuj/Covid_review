{
 "cells": [
  {
   "cell_type": "code",
   "execution_count": 3,
   "metadata": {
    "id": "8GAKciolwrIs"
   },
   "outputs": [],
   "source": [
    "from gensim.models import Word2Vec, FastText\n",
    "import pandas as pd\n",
    "import re\n",
    "from sklearn.decomposition import PCA\n",
    "from matplotlib import pyplot as plt\n",
    "import numpy as np\n",
    "import warnings\n",
    "warnings.filterwarnings('ignore')\n",
    "df = pd.read_csv('Machines_word2vec.csv')"
   ]
  },
  {
   "cell_type": "code",
   "execution_count": 7,
   "metadata": {
    "colab": {
     "base_uri": "https://localhost:8080/"
    },
    "id": "TkQMGvFSxFQa",
    "outputId": "7735efdd-228a-498a-8e2e-f1c7456257c6"
   },
   "outputs": [
    {
     "name": "stderr",
     "output_type": "stream",
     "text": [
      "[nltk_data] Downloading package punkt to\n",
      "[nltk_data]     C:\\Users\\dianu\\AppData\\Roaming\\nltk_data...\n",
      "[nltk_data]   Package punkt is already up-to-date!\n"
     ]
    }
   ],
   "source": [
    "import nltk\n",
    "nltk.download('punkt')\n",
    "from nltk.tokenize import word_tokenize"
   ]
  },
  {
   "cell_type": "code",
   "execution_count": 28,
   "outputs": [
    {
     "name": "stdout",
     "output_type": "stream",
     "text": [
      "^C\n",
      "Note: you may need to restart the kernel to use updated packages.\n"
     ]
    }
   ],
   "source": [
    "pip uninstall gensim"
   ],
   "metadata": {
    "collapsed": false,
    "pycharm": {
     "name": "#%%\n"
    }
   }
  },
  {
   "cell_type": "code",
   "execution_count": 1,
   "metadata": {},
   "outputs": [
    {
     "name": "stderr",
     "output_type": "stream",
     "text": [
      "C:\\Users\\dianu\\anaconda3\\lib\\site-packages\\gensim\\similarities\\__init__.py:15: UserWarning: The gensim.similarities.levenshtein submodule is disabled, because the optional Levenshtein package <https://pypi.org/project/python-Levenshtein/> is unavailable. Install Levenhstein (e.g. `pip install python-Levenshtein`) to suppress this warning.\n",
      "  warnings.warn(msg)\n"
     ]
    }
   ],
   "source": [
    "import gensim\n",
    "model = gensim.models.KeyedVectors.load_word2vec_format('GoogleNewsvectorsnegative300.bin', binary=True)"
   ]
  },
  {
   "cell_type": "code",
   "execution_count": 8,
   "metadata": {
    "colab": {
     "base_uri": "https://localhost:8080/",
     "height": 203
    },
    "id": "gr5jOWn7zmgJ",
    "outputId": "29292e95-2b0e-4fe7-f320-7ff14c832cea"
   },
   "outputs": [
    {
     "data": {
      "text/plain": "                                               Topic  Citation  \\\n0  this condition needs a\\nventilator that feeds ...         1   \n1  See how the Dyson team, from nearly every func...         0   \n2  ford to produce 50,000 ventilators in michigan...         0   \n3  Tesla engineers are building ventilators for c...         0   \n4  A Wireless, Automatic Hand Wash Sensor and Tim...         0   \n\n   Implementation        Class  \n0               0  Ventilators  \n1               1  Ventilators  \n2               1  Ventilators  \n3               1  Ventilators  \n4               1   Dispensors  ",
      "text/html": "<div>\n<style scoped>\n    .dataframe tbody tr th:only-of-type {\n        vertical-align: middle;\n    }\n\n    .dataframe tbody tr th {\n        vertical-align: top;\n    }\n\n    .dataframe thead th {\n        text-align: right;\n    }\n</style>\n<table border=\"1\" class=\"dataframe\">\n  <thead>\n    <tr style=\"text-align: right;\">\n      <th></th>\n      <th>Topic</th>\n      <th>Citation</th>\n      <th>Implementation</th>\n      <th>Class</th>\n    </tr>\n  </thead>\n  <tbody>\n    <tr>\n      <th>0</th>\n      <td>this condition needs a\\nventilator that feeds ...</td>\n      <td>1</td>\n      <td>0</td>\n      <td>Ventilators</td>\n    </tr>\n    <tr>\n      <th>1</th>\n      <td>See how the Dyson team, from nearly every func...</td>\n      <td>0</td>\n      <td>1</td>\n      <td>Ventilators</td>\n    </tr>\n    <tr>\n      <th>2</th>\n      <td>ford to produce 50,000 ventilators in michigan...</td>\n      <td>0</td>\n      <td>1</td>\n      <td>Ventilators</td>\n    </tr>\n    <tr>\n      <th>3</th>\n      <td>Tesla engineers are building ventilators for c...</td>\n      <td>0</td>\n      <td>1</td>\n      <td>Ventilators</td>\n    </tr>\n    <tr>\n      <th>4</th>\n      <td>A Wireless, Automatic Hand Wash Sensor and Tim...</td>\n      <td>0</td>\n      <td>1</td>\n      <td>Dispensors</td>\n    </tr>\n  </tbody>\n</table>\n</div>"
     },
     "execution_count": 8,
     "metadata": {},
     "output_type": "execute_result"
    }
   ],
   "source": [
    "df.head()"
   ]
  },
  {
   "cell_type": "code",
   "execution_count": 9,
   "metadata": {
    "id": "xE4_Oiau0P6s"
   },
   "outputs": [],
   "source": [
    "topicers=df['Topic'].to_list()\n",
    "citers=df['Citation'].to_list()\n",
    "implementations=df['Implementation'].to_list()\n",
    "classers=df['Class'].to_list()\n"
   ]
  },
  {
   "cell_type": "code",
   "execution_count": 10,
   "metadata": {
    "id": "2ECIw2Gl1rHg"
   },
   "outputs": [],
   "source": [
    "import re\n",
    "\n",
    "def extracter(lst):\n",
    "    res = []\n",
    "    for el in lst:\n",
    "        el = re.sub('[1234567890\\[\\]\\n.,—_-]', '', el)\n",
    "        sub = word_tokenize(el)\n",
    "        res.append(sub)\n",
    "      \n",
    "    return(res)\n",
    "\n",
    "y=extracter(topicers)\n",
    "# print(y[0])"
   ]
  },
  {
   "cell_type": "code",
   "execution_count": 11,
   "metadata": {
    "colab": {
     "base_uri": "https://localhost:8080/"
    },
    "id": "xZxYxVAr1TE6",
    "outputId": "b089d644-620f-43b2-dd5a-37016222869a"
   },
   "outputs": [
    {
     "name": "stdout",
     "output_type": "stream",
     "text": [
      "[4, 2, 2, 2, 2, 3]\n"
     ]
    }
   ],
   "source": [
    "indexer_ventilator=[]\n",
    "indexer_dispensor=[]\n",
    "indexer_simulator=[]\n",
    "indexer_aerosol=[]\n",
    "indexer_bed=[]\n",
    "indexer_breathanalyzer=[]\n",
    "\n",
    "cit_sum_v=0\n",
    "cit_sum_d=0\n",
    "cit_sum_s=0\n",
    "cit_sum_a=0\n",
    "cit_sum_b=0\n",
    "cit_sum_br=0\n",
    "imp_sum_v=0\n",
    "imp_sum_d=0\n",
    "imp_sum_s=0\n",
    "imp_sum_a=0\n",
    "imp_sum_b=0\n",
    "imp_sum_br=0\n",
    "\n",
    "\n",
    "\n",
    "labels=[\"Ventilators\",\"Dispensors\",\"Simulators\",\"Aerosol Containers\",\"Beds\", \"Breathanalyzers\"]\n",
    "for i in range(len(classers)):\n",
    "  if classers[i]==\"Ventilators\":\n",
    "    indexer_ventilator.append(i)\n",
    "    cit_sum_v=cit_sum_v+citers[i]\n",
    "    imp_sum_v=imp_sum_v+implementations[i]\n",
    "\n",
    "  elif classers[i]==\"Dispensors\":\n",
    "    indexer_dispensor.append(i)\n",
    "    cit_sum_d=cit_sum_d+citers[i]\n",
    "    imp_sum_d=imp_sum_d+implementations[i]\n",
    "\n",
    "  elif classers[i]==\"Simulators\":\n",
    "    indexer_simulator.append(i)\n",
    "    cit_sum_s=cit_sum_s+citers[i]\n",
    "    imp_sum_s=imp_sum_s+implementations[i]\n",
    "\n",
    "  elif classers[i]==\"Aerosol Containers\":\n",
    "    indexer_aerosol.append(i)\n",
    "    cit_sum_a=cit_sum_a+citers[i]\n",
    "    imp_sum_a=imp_sum_a+implementations[i]\n",
    "\n",
    "  elif classers[i]==\"Beds\":\n",
    "    indexer_bed.append(i)\n",
    "    cit_sum_b=cit_sum_b+citers[i]\n",
    "    imp_sum_b=imp_sum_b+implementations[i]\n",
    "\n",
    "  elif classers[i]==\"Breathanalyzers\":\n",
    "      indexer_breathanalyzer.append(i)\n",
    "      cit_sum_br=cit_sum_br+citers[i]\n",
    "      imp_sum_br=imp_sum_br+implementations[i]\n",
    "\n",
    "freq_class=[len(indexer_ventilator),len(indexer_dispensor),len(indexer_simulator),len(indexer_aerosol),len(indexer_bed),len(indexer_breathanalyzer)]\n",
    "\n",
    "cit_sum=[cit_sum_v,cit_sum_d,cit_sum_s,cit_sum_a,cit_sum_b,cit_sum_br]\n",
    "imp_sum=[imp_sum_v,imp_sum_d,imp_sum_s,imp_sum_a,imp_sum_b,imp_sum_br]\n",
    "print(freq_class)"
   ]
  },
  {
   "cell_type": "code",
   "execution_count": 14,
   "metadata": {
    "colab": {
     "base_uri": "https://localhost:8080/"
    },
    "id": "fHtPlbIU0SJI",
    "outputId": "dcac7536-eeb0-43f4-ad0d-e38e4dc6b87c"
   },
   "outputs": [
    {
     "name": "stdout",
     "output_type": "stream",
     "text": [
      "<gensim.models.keyedvectors.KeyedVectors object at 0x000002533CB6FD00>\n"
     ]
    }
   ],
   "source": [
    "# train word2vec model\n",
    "w2v = Word2Vec(y, min_count=1)\n",
    "print(w2v.wv)\n",
    "#Word2Vec(vocab=19, size=5, alpha=0.025)"
   ]
  },
  {
   "cell_type": "code",
   "execution_count": 20,
   "metadata": {
    "colab": {
     "base_uri": "https://localhost:8080/"
    },
    "id": "CFnJ6kCm1F2-",
    "outputId": "0f6198f9-31d0-499d-d0eb-c057fb3724b5"
   },
   "outputs": [
    {
     "name": "stdout",
     "output_type": "stream",
     "text": [
      "[ 9.6450560e-03 -9.9269650e-04 -6.9603436e-03 -2.0650367e-03\n",
      "  6.1363974e-03  1.3932881e-03  1.5105047e-03  2.1617445e-03\n",
      "  5.8040968e-03 -3.2613787e-03  9.3530491e-03  3.6969825e-03\n",
      "  2.2722888e-03 -3.8904902e-03 -8.2924459e-03  6.9210911e-04\n",
      " -2.9812108e-03 -9.9233817e-03 -5.7400628e-03 -9.0182684e-03\n",
      "  1.7752751e-03 -8.2332706e-03  4.7887778e-03  2.2587972e-03\n",
      "  6.3005313e-03  3.2036880e-04  7.2094235e-03 -2.9976184e-03\n",
      " -2.0821183e-03 -2.4658961e-03 -9.5522851e-03  8.0670537e-03\n",
      " -8.8160075e-03  4.3891575e-03 -7.0944172e-04 -4.3257298e-03\n",
      "  4.5634839e-03 -3.1298199e-03  1.1524226e-03  8.7427562e-03\n",
      "  5.6844312e-03 -2.5125491e-03 -2.2453556e-03  2.0486864e-04\n",
      " -1.9920459e-03  4.6989392e-03  3.5642197e-03 -5.5505969e-03\n",
      "  9.6030440e-03  3.0912866e-03  1.1981135e-03 -5.5192998e-03\n",
      " -5.9022112e-03  7.2522773e-03  1.8727835e-03 -1.6583985e-03\n",
      "  6.8192659e-03  9.5466208e-03  6.1353259e-03 -8.6881751e-03\n",
      "  6.8177828e-03  7.0018863e-04  3.0359840e-03 -1.0002538e-03\n",
      " -3.9095281e-05 -4.0130424e-03 -4.3437234e-03 -7.3735639e-03\n",
      " -5.2045342e-03 -8.2738223e-03 -3.8751328e-04  6.4602317e-03\n",
      "  3.2792948e-03 -6.5206289e-03 -4.3898062e-03 -9.3697635e-03\n",
      "  2.8613331e-03  1.1681527e-03  9.6528726e-03 -5.3885104e-03\n",
      " -4.5410395e-03 -2.6592016e-03  9.1517689e-03  6.4214831e-03\n",
      " -1.5209265e-03  2.0066081e-03 -1.8839132e-03 -6.8376842e-03\n",
      " -6.8097673e-03 -7.3558856e-03 -3.7327262e-03  2.0842140e-03\n",
      "  2.5376291e-03  6.8387715e-03  4.2783325e-03 -3.2765963e-04\n",
      "  7.2103627e-03  3.2116945e-03 -5.6205639e-03  5.8105150e-03]\n",
      "[('virus', 0.34215813875198364), ('neck', 0.33151185512542725), ('obtain', 0.28955310583114624), ('complex', 0.28579241037368774), ('trained', 0.24164190888404846)]\n"
     ]
    }
   ],
   "source": [
    "# access vector for one word\n",
    "print(w2v.wv['dispenser'])\n",
    "print(w2v.wv.most_similar('aerosol', topn=5))"
   ]
  },
  {
   "cell_type": "code",
   "execution_count": 23,
   "metadata": {
    "id": "p_MnfjG72CrD"
   },
   "outputs": [],
   "source": [
    "X1= w2v.wv['ventilators']\n",
    "X2= w2v.wv['dispenser']\n",
    "X3= w2v.wv['Neuromuscular']\n",
    "X4= w2v.wv['aerosol']\n",
    "X5= w2v.wv['bed']\n",
    "X6= w2v.wv['breath']\n",
    "X=np.stack([X1,X2,X3,X4,X5,X6], axis=0)\n",
    "pca = PCA(n_components=3)\n",
    "result = pca.fit_transform(X)"
   ]
  },
  {
   "cell_type": "code",
   "execution_count": 64,
   "metadata": {
    "colab": {
     "base_uri": "https://localhost:8080/",
     "height": 319
    },
    "id": "E613w7fXHv_O",
    "outputId": "2c5fb53f-9b29-4db1-b1b1-e8b547e43aa3"
   },
   "outputs": [
    {
     "data": {
      "text/plain": "<Figure size 432x288 with 1 Axes>",
      "image/png": "[encoded data removed]"
     },
     "metadata": {
      "needs_background": "light"
     },
     "output_type": "display_data"
    }
   ],
   "source": [
    "from matplotlib import pyplot\n",
    "from mpl_toolkits.mplot3d import Axes3D\n",
    "from numpy.random import rand\n",
    "from pylab import figure\n",
    "\n",
    "\n",
    "fig = figure()\n",
    "ax = Axes3D(fig)\n",
    "\n",
    "algebra=[x + np.exp(y) for x, y in zip(cit_sum, imp_sum)]\n",
    "scalar=[x  for x in algebra]\n",
    "\n",
    "coly=['r','b','g','m','y','#17becf']\n",
    "for i in range(6): #plot each point + it's index as text above\n",
    "    if i==5:\n",
    "     ax.scatter(result[i, 0],result[i, 1],freq_class[i],s=20*scalar[i],color=coly[i])\n",
    "     ax.text(result[i, 0]-0.01,result[i, 1],freq_class[i]+0.1,  '%s' % (labels[i]), size=10, zorder=1,\n",
    "     color='k')\n",
    "\n",
    "    elif i==4:\n",
    "        ax.scatter(result[i, 0],result[i, 1],freq_class[i],s=20*scalar[i],color=coly[i])\n",
    "        ax.text(result[i, 0]-0.02,result[i, 1],freq_class[i]-0.4,  '%s' % (labels[i]), size=10, zorder=1,\n",
    "                color='k')\n",
    "    elif i==3:\n",
    "        ax.scatter(result[i, 0],result[i, 1],freq_class[i],s=20*scalar[i],color=coly[i])\n",
    "        ax.text(result[i, 0]-0.03,result[i, 1]-0.02,freq_class[i]-0.4,  '%s' % (labels[i]), size=10, zorder=1,\n",
    "                color='k')\n",
    "    else:\n",
    "        ax.scatter(result[i, 0],result[i, 1],freq_class[i],s=20*scalar[i],color=coly[i])\n",
    "        ax.text(result[i, 0]-0.02,result[i, 1],freq_class[i]-0.5,  '%s' % (labels[i]), size=10, zorder=1,\n",
    "                color='k')\n",
    "\n",
    "ax.set_xlabel('x')\n",
    "ax.set_ylabel('y')\n",
    "ax.set_zlabel('Frequency')\n",
    "pyplot.show()\n",
    "fig.savefig('Machines.jpg', dpi=1000)"
   ]
  },
  {
   "cell_type": "code",
   "execution_count": null,
   "metadata": {},
   "outputs": [],
   "source": []
  }
 ],
 "metadata": {
  "colab": {
   "name": "word2vec.ipynb",
   "provenance": []
  },
  "kernelspec": {
   "display_name": "Python 3",
   "language": "python",
   "name": "python3"
  },
  "language_info": {
   "codemirror_mode": {
    "name": "ipython",
    "version": 3
   },
   "file_extension": ".py",
   "mimetype": "text/x-python",
   "name": "python",
   "nbconvert_exporter": "python",
   "pygments_lexer": "ipython3",
   "version": "3.8.8"
  }
 },
 "nbformat": 4,
 "nbformat_minor": 1
}